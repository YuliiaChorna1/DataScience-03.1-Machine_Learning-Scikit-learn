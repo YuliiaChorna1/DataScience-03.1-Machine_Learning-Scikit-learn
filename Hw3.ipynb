{
 "cells": [
  {
   "cell_type": "code",
   "execution_count": 1526,
   "metadata": {},
   "outputs": [],
   "source": [
    "import numpy as np\n",
    "import pandas as pd\n",
    "import matplotlib.pyplot as plt"
   ]
  },
  {
   "cell_type": "code",
   "execution_count": 1527,
   "metadata": {},
   "outputs": [
    {
     "data": {
      "text/html": [
       "<div>\n",
       "<style scoped>\n",
       "    .dataframe tbody tr th:only-of-type {\n",
       "        vertical-align: middle;\n",
       "    }\n",
       "\n",
       "    .dataframe tbody tr th {\n",
       "        vertical-align: top;\n",
       "    }\n",
       "\n",
       "    .dataframe thead th {\n",
       "        text-align: right;\n",
       "    }\n",
       "</style>\n",
       "<table border=\"1\" class=\"dataframe\">\n",
       "  <thead>\n",
       "    <tr style=\"text-align: right;\">\n",
       "      <th></th>\n",
       "      <th>area</th>\n",
       "      <th>bathrooms</th>\n",
       "      <th>bedrooms</th>\n",
       "    </tr>\n",
       "  </thead>\n",
       "  <tbody>\n",
       "    <tr>\n",
       "      <th>0</th>\n",
       "      <td>7420</td>\n",
       "      <td>2</td>\n",
       "      <td>4</td>\n",
       "    </tr>\n",
       "    <tr>\n",
       "      <th>1</th>\n",
       "      <td>8960</td>\n",
       "      <td>4</td>\n",
       "      <td>4</td>\n",
       "    </tr>\n",
       "    <tr>\n",
       "      <th>2</th>\n",
       "      <td>9960</td>\n",
       "      <td>2</td>\n",
       "      <td>3</td>\n",
       "    </tr>\n",
       "    <tr>\n",
       "      <th>3</th>\n",
       "      <td>7500</td>\n",
       "      <td>2</td>\n",
       "      <td>4</td>\n",
       "    </tr>\n",
       "    <tr>\n",
       "      <th>4</th>\n",
       "      <td>7420</td>\n",
       "      <td>1</td>\n",
       "      <td>4</td>\n",
       "    </tr>\n",
       "  </tbody>\n",
       "</table>\n",
       "</div>"
      ],
      "text/plain": [
       "   area  bathrooms  bedrooms\n",
       "0  7420          2         4\n",
       "1  8960          4         4\n",
       "2  9960          2         3\n",
       "3  7500          2         4\n",
       "4  7420          1         4"
      ]
     },
     "execution_count": 1527,
     "metadata": {},
     "output_type": "execute_result"
    }
   ],
   "source": [
    "df = pd.read_csv(\"Housing.csv\")\n",
    "df[[\"area\", \"bathrooms\", \"bedrooms\"]].head()"
   ]
  },
  {
   "cell_type": "markdown",
   "metadata": {},
   "source": [
    "- напишіть функцію **гіпотези лінійної регресії** у векторному вигляді:"
   ]
  },
  {
   "cell_type": "code",
   "execution_count": 1528,
   "metadata": {},
   "outputs": [],
   "source": [
    "def h(X, w):\n",
    "    return np.dot(X, w)"
   ]
  },
  {
   "cell_type": "markdown",
   "metadata": {},
   "source": [
    "- створіть функцію для обчислення **функції втрат** у векторному вигляді:"
   ]
  },
  {
   "cell_type": "code",
   "execution_count": 1529,
   "metadata": {},
   "outputs": [],
   "source": [
    "def mse(X, y, w):\n",
    "    m = len(y)\n",
    "    y_pred = h(X, w)\n",
    "    loss = (1 / (2 * m)) * np.sum((y_pred - y) ** 2)\n",
    "    return loss"
   ]
  },
  {
   "cell_type": "markdown",
   "metadata": {},
   "source": [
    "- реалізуйте один **крок градієнтного спуску**:"
   ]
  },
  {
   "cell_type": "code",
   "execution_count": 1530,
   "metadata": {},
   "outputs": [],
   "source": [
    "def grad_step(X, y, w, learning_rate=0.01):\n",
    "    m = len(y)\n",
    "    y_pred = h(X, w)\n",
    "    errors = y_pred - y\n",
    "    gradient = (1 / m) * X.T.dot(errors)\n",
    "    w = w - learning_rate * gradient\n",
    "    return w"
   ]
  },
  {
   "cell_type": "markdown",
   "metadata": {},
   "source": [
    "- знайдіть **найкращі параметри $\\vec{𝑤}$** для датасету прогнозуючу ціну на будинок залежно від площі, кількості ванних кімнат та кількості спалень:"
   ]
  },
  {
   "cell_type": "code",
   "execution_count": 1531,
   "metadata": {},
   "outputs": [],
   "source": [
    "def grad_descent(weights, X, y, num_iter, learning_rate=0.1, epsilon=0.00000000001):\n",
    "    w = weights\n",
    "    \n",
    "    loss = mse(X, y, w)\n",
    "    loss_history = [loss]    \n",
    "\n",
    "\n",
    "    for i in range(num_iter):\n",
    "\n",
    "        w = grad_step(X, y, w, learning_rate=learning_rate)                      \n",
    "        loss = mse(X, y, w)\n",
    "        if (i+1) % 10 == 0:\n",
    "            print(f\"Iteration {i+1}: Loss {loss}, Weights: {w}\")\n",
    "\n",
    "        if abs(loss - loss_history[-1]) < epsilon:\n",
    "            loss_history.append(loss)\n",
    "            break\n",
    "        loss_history.append(loss)        \n",
    "\n",
    "    return w, loss_history"
   ]
  },
  {
   "cell_type": "code",
   "execution_count": 1532,
   "metadata": {},
   "outputs": [
    {
     "data": {
      "text/html": [
       "<div>\n",
       "<style scoped>\n",
       "    .dataframe tbody tr th:only-of-type {\n",
       "        vertical-align: middle;\n",
       "    }\n",
       "\n",
       "    .dataframe tbody tr th {\n",
       "        vertical-align: top;\n",
       "    }\n",
       "\n",
       "    .dataframe thead th {\n",
       "        text-align: right;\n",
       "    }\n",
       "</style>\n",
       "<table border=\"1\" class=\"dataframe\">\n",
       "  <thead>\n",
       "    <tr style=\"text-align: right;\">\n",
       "      <th></th>\n",
       "      <th>price</th>\n",
       "      <th>area</th>\n",
       "      <th>bathrooms</th>\n",
       "      <th>bedrooms</th>\n",
       "      <th>intercept</th>\n",
       "    </tr>\n",
       "  </thead>\n",
       "  <tbody>\n",
       "    <tr>\n",
       "      <th>0</th>\n",
       "      <td>4.566365</td>\n",
       "      <td>1.046726</td>\n",
       "      <td>1.421812</td>\n",
       "      <td>1.403419</td>\n",
       "      <td>1</td>\n",
       "    </tr>\n",
       "    <tr>\n",
       "      <th>1</th>\n",
       "      <td>4.004484</td>\n",
       "      <td>1.757010</td>\n",
       "      <td>5.405809</td>\n",
       "      <td>1.403419</td>\n",
       "      <td>1</td>\n",
       "    </tr>\n",
       "    <tr>\n",
       "      <th>2</th>\n",
       "      <td>4.004484</td>\n",
       "      <td>2.218232</td>\n",
       "      <td>1.421812</td>\n",
       "      <td>0.047278</td>\n",
       "      <td>1</td>\n",
       "    </tr>\n",
       "    <tr>\n",
       "      <th>3</th>\n",
       "      <td>3.985755</td>\n",
       "      <td>1.083624</td>\n",
       "      <td>1.421812</td>\n",
       "      <td>1.403419</td>\n",
       "      <td>1</td>\n",
       "    </tr>\n",
       "    <tr>\n",
       "      <th>4</th>\n",
       "      <td>3.554979</td>\n",
       "      <td>1.046726</td>\n",
       "      <td>-0.570187</td>\n",
       "      <td>1.403419</td>\n",
       "      <td>1</td>\n",
       "    </tr>\n",
       "  </tbody>\n",
       "</table>\n",
       "</div>"
      ],
      "text/plain": [
       "      price      area  bathrooms  bedrooms  intercept\n",
       "0  4.566365  1.046726   1.421812  1.403419          1\n",
       "1  4.004484  1.757010   5.405809  1.403419          1\n",
       "2  4.004484  2.218232   1.421812  0.047278          1\n",
       "3  3.985755  1.083624   1.421812  1.403419          1\n",
       "4  3.554979  1.046726  -0.570187  1.403419          1"
      ]
     },
     "execution_count": 1532,
     "metadata": {},
     "output_type": "execute_result"
    }
   ],
   "source": [
    "# data scaling\n",
    "from sklearn.preprocessing import StandardScaler\n",
    "scaler = StandardScaler()\n",
    "scaled_df = pd.DataFrame(scaler.fit_transform(df[[\"price\", \"area\", \"bathrooms\", \"bedrooms\"]]), columns = [\"price\", \"area\", \"bathrooms\", \"bedrooms\"])\n",
    "scaled_df[\"intercept\"] = 1\n",
    "\n",
    "features = scaled_df[[\"intercept\", \"area\", \"bathrooms\", \"bedrooms\"]]\n",
    "price = scaled_df[\"price\"]\n",
    "\n",
    "scaled_df.head()"
   ]
  },
  {
   "cell_type": "code",
   "execution_count": 1533,
   "metadata": {},
   "outputs": [
    {
     "name": "stdout",
     "output_type": "stream",
     "text": [
      "Iteration 10: Loss 0.31427360799126297, Weights: [1.010404808e-16 2.026157883e-01 1.883894512e-01 1.246248664e-01]\n",
      "Iteration 20: Loss 0.27141887314132207, Weights: [1.673686673e-16 3.086925352e-01 2.775386199e-01 1.701407958e-01]\n",
      "Iteration 30: Loss 0.26082306099507657, Weights: [2.258743651e-16 3.656135007e-01 3.207087936e-01 1.830247315e-01]\n",
      "Iteration 40: Loss 0.257917277039969, Weights: [2.509104036e-16 3.969178165e-01 3.423619229e-01 1.834342042e-01]\n",
      "Iteration 50: Loss 0.2570101518045646, Weights: [2.781465170e-16 4.145389056e-01 3.537696024e-01 1.798254433e-01]\n",
      "Iteration 60: Loss 0.2566874924956461, Weights: [2.868449616e-16 4.246665581e-01 3.601602020e-01 1.755403676e-01]\n",
      "Iteration 70: Loss 0.2565597563012645, Weights: [3.034677504e-16 4.305913952e-01 3.639890458e-01 1.717466347e-01]\n",
      "Iteration 80: Loss 0.2565051920081913, Weights: [3.025103104e-16 4.341073653e-01 3.664339963e-01 1.687308358e-01]\n",
      "Iteration 90: Loss 0.2564806643236469, Weights: [3.027140210e-16 4.362166339e-01 3.680796128e-01 1.664541890e-01]\n",
      "Best w values: [3.027140210e-16 4.362166339e-01 3.680796128e-01 1.664541890e-01]\n"
     ]
    }
   ],
   "source": [
    "# model training\n",
    "w, history = grad_descent((0, 0, 0, 0), features.values, price.values, 90, learning_rate=0.05)\n",
    "print(f\"Best w values: {w}\")\n"
   ]
  },
  {
   "cell_type": "code",
   "execution_count": 1534,
   "metadata": {},
   "outputs": [
    {
     "name": "stdout",
     "output_type": "stream",
     "text": [
      "Best w values after extra training: [3.027140210e-16 4.362166339e-01 3.680796128e-01 1.664541890e-01]\n"
     ]
    }
   ],
   "source": [
    "# check model training (донавчання)\n",
    "w, ext_history = grad_descent(w, features.values, price.values, 90, learning_rate=0.0000000001)\n",
    "print(f\"Best w values after extra training: {w}\")"
   ]
  },
  {
   "cell_type": "code",
   "execution_count": 1535,
   "metadata": {},
   "outputs": [],
   "source": [
    "# build loss history graph\n",
    "def plot_loss_history(loss_history):\n",
    "    plt.plot(loss_history)\n",
    "    plt.xlabel(\"Iteration\")\n",
    "    plt.ylabel(\"Loss\")\n",
    "    plt.title(\"Loss History\")\n",
    "    plt.show()"
   ]
  },
  {
   "cell_type": "code",
   "execution_count": 1536,
   "metadata": {},
   "outputs": [
    {
     "data": {
      "image/png": "[encoded data removed]",
      "text/plain": [
       "<Figure size 640x480 with 1 Axes>"
      ]
     },
     "metadata": {},
     "output_type": "display_data"
    }
   ],
   "source": [
    "plot_loss_history(history+ext_history)"
   ]
  },
  {
   "cell_type": "markdown",
   "metadata": {},
   "source": [
    "- знайдіть ці ж параметри за допомогою **аналітичного рішення** :"
   ]
  },
  {
   "cell_type": "code",
   "execution_count": 1537,
   "metadata": {},
   "outputs": [],
   "source": [
    "def normal_equation(X, y):\n",
    "    return np.linalg.inv(X.T.dot(X)).dot(X.T).dot(y)"
   ]
  },
  {
   "cell_type": "code",
   "execution_count": 1538,
   "metadata": {},
   "outputs": [
    {
     "name": "stdout",
     "output_type": "stream",
     "text": [
      "Best w values after normal equation: [9.613685408e-16 4.394520852e-01 3.723444228e-01 1.605286598e-01]\n"
     ]
    }
   ],
   "source": [
    "w_ne = normal_equation(features.values, price.values)\n",
    "print(f\"Best w values after normal equation: {w_ne}\")"
   ]
  },
  {
   "cell_type": "markdown",
   "metadata": {},
   "source": [
    "- ці ж параметри за допомогою **sklearn** :"
   ]
  },
  {
   "cell_type": "code",
   "execution_count": 1539,
   "metadata": {},
   "outputs": [
    {
     "name": "stdout",
     "output_type": "stream",
     "text": [
      "Best w values via sklearn library: [3.163612015992004e-16, 0.43945208520646806, 0.37234442275273194, 0.1605286597689974]\n"
     ]
    }
   ],
   "source": [
    "import numpy as np\n",
    "from sklearn.linear_model import LinearRegression\n",
    "\n",
    "X = scaled_df[[\"area\", \"bathrooms\", \"bedrooms\"]].values\n",
    "y = price.values\n",
    "\n",
    "regressor = LinearRegression().fit(X, y)\n",
    "\n",
    "w_skl = [regressor.intercept_] + list(regressor.coef_)\n",
    "\n",
    "print(f\"Best w values via sklearn library: {w_skl}\")"
   ]
  },
  {
   "cell_type": "markdown",
   "metadata": {},
   "source": [
    "- порівняйте отримані результати:"
   ]
  },
  {
   "cell_type": "code",
   "execution_count": 1540,
   "metadata": {},
   "outputs": [
    {
     "name": "stdout",
     "output_type": "stream",
     "text": [
      "\tПараметри моделі лінійної регресії, які були знайдені трьома різними методами:\n",
      "[3.027140210e-16 4.362166339e-01 3.680796128e-01 1.664541890e-01] - (градієнтний спуск)\n",
      "[9.613685408e-16 4.394520852e-01 3.723444228e-01 1.605286598e-01] - (аналітичне рішення)\n",
      "[3.163612015992004e-16, 0.43945208520646806, 0.37234442275273194, 0.1605286597689974] - (sklearn бібліотека)\n",
      "\tМожемо зробити наступні висновки:\n",
      "    - Параметри вектора 'w' - це ваги, які модель присвоює кожній фічі (площа, кількість ванних кімнат та кількість спалень) при прогнозуванні ціни. \n",
      "    - Чим більше вага, тим більший вплив має відповідна фіча на прогнозовану ціну.\n",
      "    1-й елем. це intercept. Це наше базове значення ціни будинку, коли всі інші фічі дорівнюють нулю.\n",
      "    2-й елем. це вага, присвоєна площі будинку. Тобто з кожним збільшенням площі на 1, прогнозована ціна \n",
      "збільшується приблизно на 0.436 (для град. спуску) або на 0.439 (для аналіт. та sklearn рішення)\n",
      "    3-й та 4-й ел-ти це ваги, присвоєні кількості ванних кімнат та кількості спалень. З кожним збільшенням кожної з цих фічей \n",
      "ціна буде збільшуватися відповідно на значення парамерту\n",
      "    - Хоча всі три методи дають трохи різні результати, вони є досить близькими.\n",
      "Це свідчить про те, що усі вони ефективно знаходять оптимальні параметри для цієї моделі лінійної регресії.\n",
      "Різниця у результатах пов’язана з різницею в методах оптимізації та в точності числових обчислень.\n"
     ]
    }
   ],
   "source": [
    "print(\"\\tПараметри моделі лінійної регресії, які були знайдені трьома різними методами:\")\n",
    "print(f\"{w} - (градієнтний спуск)\")\n",
    "print(f\"{w_ne} - (аналітичне рішення)\")\n",
    "print(f\"{w_skl} - (sklearn бібліотека)\")\n",
    "\n",
    "conclusion = \"\"\"\\tМожемо зробити наступні висновки:\n",
    "    - Параметри вектора 'w' - це ваги, які модель присвоює кожній фічі (площа, кількість ванних кімнат та кількість спалень) при прогнозуванні ціни. \n",
    "    - Чим більше вага, тим більший вплив має відповідна фіча на прогнозовану ціну.\n",
    "    1-й елем. це intercept. Це наше базове значення ціни будинку, коли всі інші фічі дорівнюють нулю.\n",
    "    2-й елем. це вага, присвоєна площі будинку. Тобто з кожним збільшенням площі на 1, прогнозована ціна \n",
    "збільшується приблизно на 0.436 (для град. спуску) або на 0.439 (для аналіт. та sklearn рішення)\n",
    "    3-й та 4-й ел-ти це ваги, присвоєні кількості ванних кімнат та кількості спалень. З кожним збільшенням кожної з цих фічей \n",
    "ціна буде збільшуватися відповідно на значення парамерту\n",
    "    - Хоча всі три методи дають трохи різні результати, вони є досить близькими.\n",
    "Це свідчить про те, що усі вони ефективно знаходять оптимальні параметри для цієї моделі лінійної регресії.\n",
    "Різниця у результатах пов’язана з різницею в методах оптимізації та в точності числових обчислень.\"\"\"\n",
    "\n",
    "print(conclusion)\n"
   ]
  }
 ],
 "metadata": {
  "kernelspec": {
   "display_name": "Python 3",
   "language": "python",
   "name": "python3"
  },
  "language_info": {
   "codemirror_mode": {
    "name": "ipython",
    "version": 3
   },
   "file_extension": ".py",
   "mimetype": "text/x-python",
   "name": "python",
   "nbconvert_exporter": "python",
   "pygments_lexer": "ipython3",
   "version": "3.11.4"
  }
 },
 "nbformat": 4,
 "nbformat_minor": 2
}
